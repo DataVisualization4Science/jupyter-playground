{
 "cells": [
  {
   "cell_type": "markdown",
   "metadata": {},
   "source": [
    "# Custom D3.js Visualizations in a Jupyter Notebook\n",
    "<small>by Stefaan Lippens, May 2018</small>"
   ]
  },
  {
   "cell_type": "markdown",
   "metadata": {},
   "source": [
    "When doing data science in a Jupyter notebook, there are plenty \n",
    "of options and approaches for the standard data visualization needs:\n",
    "matplotlib, pandas, seaborn, bokeh, etc. \n",
    "These tools are widely known and well documented, \n",
    "so no need to discuss them in more detail here.\n",
    "\n",
    "\n",
    "However, sometimes you're stuck on a project where you can not \n",
    "easily express the desired visualization with the \n",
    "standard vocabulary provided by these tools.\n",
    "For this kind of situations I like to leverage the flexibility\n",
    "of [D3.js](https://d3js.org/) to build a custom graph or diagram.\n",
    "\n",
    "\n",
    "In this article, I'll discuss an approach how to \n",
    "implement a do-it-yourself D3.js visualization in a Jupyter Notebook.\n",
    "This topic is covered in other places around the web,\n",
    "but I couldn't find a good reference to a solution that\n",
    "isn't too hackish and connects all the dots. \n",
    "In particular, in the templates discussed below \n",
    "I'll try to keep these things in mind:\n",
    "\n",
    "- Leverage the [existing Jupyter functionality](http://jupyter-notebook.readthedocs.io/en/stable/examples/Notebook/JavaScript%20Notebook%20Extensions.html),\n",
    "  like a [RequireJS](http://requirejs.org/) environment \n",
    "  to have clean dependency handling \n",
    "  and to avoid `<script src=\"...\">` loading/order headaches.\n",
    "- The visualisation should work both in an interactive notebook context\n",
    "  and in the exported HTML version.\n",
    "- By default, avoid the typical D3.js boilerplate to insert the drawing at the desired\n",
    "  location (insert a `<div id=\"...\">` in the markup and use the corresponding id in the javascript code).\n",
    "  Keeping these id's properly in sync is annoying to maintain, \n",
    "  especially if you iterate a lot or want multiple drawings in the same notebook.\n",
    "  "
   ]
  },
  {
   "cell_type": "markdown",
   "metadata": {},
   "source": [
    "## The basics: inline `%%javascript` snippets"
   ]
  },
  {
   "cell_type": "markdown",
   "metadata": {},
   "source": [
    "To cover the basics, let's start simple with just inline `%%javascript` snippet cells.\n",
    "\n",
    "\n",
    "First, we tell the RequireJS environment where to find the version of D3.js we want.\n",
    "Note that the `.js` extension is [omitted](http://requirejs.org/docs/api.html#config-paths) in the URL. "
   ]
  },
  {
   "cell_type": "code",
   "execution_count": 1,
   "metadata": {},
   "outputs": [
    {
     "data": {
      "application/javascript": [
       "require.config({\n",
       "    paths: {\n",
       "        d3: 'https://d3js.org/d3.v5.min'\n",
       "    }\n",
       "});"
      ],
      "text/plain": [
       "<IPython.core.display.Javascript object>"
      ]
     },
     "metadata": {},
     "output_type": "display_data"
    }
   ],
   "source": [
    "%%javascript\n",
    "require.config({\n",
    "    paths: {\n",
    "        d3: 'https://d3js.org/d3.v5.min'\n",
    "    }\n",
    "});"
   ]
  },
  {
   "cell_type": "markdown",
   "metadata": {},
   "source": [
    "We can now create a D3.js powered SVG drawing, for example as follows:"
   ]
  },
  {
   "cell_type": "code",
   "execution_count": 2,
   "metadata": {},
   "outputs": [
    {
     "data": {
      "application/javascript": [
       "(function(element) {\n",
       "    require(['d3'], function(d3) {   \n",
       "        var data = [1, 2, 4, 8, 16, 8, 4, 2, 1]\n",
       "\n",
       "        var svg = d3.select(element.get(0)).append('svg')\n",
       "            .attr('width', 400)\n",
       "            .attr('height', 200);\n",
       "        svg.selectAll('circle')\n",
       "            .data(data)\n",
       "            .enter()\n",
       "            .append('circle')\n",
       "            .attr(\"cx\", function(d, i) {return 40 * (i + 1);})\n",
       "            .attr(\"cy\", function(d, i) {return 100 + 30 * (i % 3 - 1);})\n",
       "            .attr(\"r\", function(d) {return 2*d;})\n",
       "            .style(\"fill\", \"#1570a4\")\n",
       "        ;\n",
       "    })\n",
       "})(element);"
      ],
      "text/plain": [
       "<IPython.core.display.Javascript object>"
      ]
     },
     "metadata": {},
     "output_type": "display_data"
    }
   ],
   "source": [
    "%%javascript\n",
    "(function(element) {\n",
    "    require(['d3'], function(d3) {   \n",
    "        var data = [1, 2, 4, 8, 16, 8, 4, 2, 1]\n",
    "\n",
    "        var svg = d3.select(element.get(0)).append('svg')\n",
    "            .attr('width', 400)\n",
    "            .attr('height', 200);\n",
    "        svg.selectAll('circle')\n",
    "            .data(data)\n",
    "            .enter()\n",
    "            .append('circle')\n",
    "            .attr(\"cx\", function(d, i) {return 40 * (i + 1);})\n",
    "            .attr(\"cy\", function(d, i) {return 100 + 30 * (i % 3 - 1);})\n",
    "            .attr(\"r\", function(d) {return 2*d;})\n",
    "            .style(\"fill\", \"#1570a4\")\n",
    "        ;\n",
    "    })\n",
    "})(element);"
   ]
  },
  {
   "cell_type": "markdown",
   "metadata": {},
   "source": [
    "Note:\n",
    "- We leverage RequireJS to hand us a loaded `d3` library in a closure.\n",
    "- The SVG drawing is appended to the current output cell:\n",
    "    - `element` is the jQuery powered wrapper for this\n",
    "    - `element.get(0)` is the DOM node itself that can be handed to `d3.select()`\n",
    "- The `element` variable is a global variable and overwritten on each rendering of a Javascript cell, so to make sure we capture the correct `element` inside our D3.js code (which is executed asynchronously), we wrap the whole thing in a closure."
   ]
  },
  {
   "cell_type": "markdown",
   "metadata": {},
   "source": [
    "## And now, the real work"
   ]
  },
  {
   "cell_type": "markdown",
   "metadata": {},
   "source": [
    "Unless you're just toying around with simple visualizations,\n",
    "these D3.js scripts can get very extensive,\n",
    "which is not very ideal to work on directly in a interactive notebook.\n",
    "You probably want to develop the D3.js script in an editor or IDE \n",
    "that gives you a bit more code intelligence.\n",
    "\n",
    "\n",
    "So let's cover how to get things working with an separate `.js` script\n",
    "and, additionally, with data that is initially defined or constructed in Python. \n",
    "\n",
    "\n",
    "First, we do some imports"
   ]
  },
  {
   "cell_type": "code",
   "execution_count": 3,
   "metadata": {},
   "outputs": [],
   "source": [
    "from IPython.display import Javascript\n",
    "import json"
   ]
  },
  {
   "cell_type": "markdown",
   "metadata": {},
   "source": [
    "and set up the RequireJS find path (repeated here for completeness)"
   ]
  },
  {
   "cell_type": "code",
   "execution_count": 4,
   "metadata": {},
   "outputs": [
    {
     "data": {
      "application/javascript": [
       "require.config({\n",
       "    paths: { \n",
       "        d3: 'https://d3js.org/d3.v5.min'\n",
       "    }\n",
       "});"
      ],
      "text/plain": [
       "<IPython.core.display.Javascript object>"
      ]
     },
     "metadata": {},
     "output_type": "display_data"
    }
   ],
   "source": [
    "%%javascript\n",
    "require.config({\n",
    "    paths: { \n",
    "        d3: 'https://d3js.org/d3.v5.min'\n",
    "    }\n",
    "});"
   ]
  },
  {
   "cell_type": "markdown",
   "metadata": {},
   "source": [
    "Let's say we have a script `circles.js` that implements a certain visualisation, rougly with this structure:\n",
    "\n",
    "    define('circles', ['d3'], function (d3) {\n",
    "        function draw(container, data) {\n",
    "            var svg = d3.select(container).append(\"svg\");\n",
    "            // etc ...\n",
    "        }\n",
    "        return draw;\n",
    "    });\n",
    "\n",
    "\n",
    "Like before, it leverages RequireJS to declare the dependecy on the `d3` library.\n",
    "In addition, it also defines a new \"export\" called `circles`, which is just a single function (internally called `draw`) in this case.\n",
    "If you want you can instead export an object containing multiple functions, but let's keep it simple in this example.\n",
    "Note that the `draw` function expects a container to append the SVG element to and a data object.\n",
    "\n",
    "Assuming for simplicity that this script `circles.js` lives alongside the notebook file, we can inject the javascript code in the notebook like this:"
   ]
  },
  {
   "cell_type": "code",
   "execution_count": 5,
   "metadata": {},
   "outputs": [
    {
     "data": {
      "application/javascript": [
       "// First undefine 'circles' so we can easily reload this file.\n",
       "require.undef('circles');\n",
       "\n",
       "define('circles', ['d3'], function (d3) {\n",
       "\n",
       "    var width = 600;\n",
       "    var height = 200;\n",
       "\n",
       "    function draw(container, data) {\n",
       "        var svg = d3.select(container).append(\"svg\")\n",
       "            .attr('width', width)\n",
       "            .attr('height', height)\n",
       "            .append(\"g\");\n",
       "\n",
       "        var x = d3.scaleLinear()\n",
       "            .domain([0, data.length - 1])\n",
       "            .range([50, width - 50]);\n",
       "\n",
       "        var circles = svg.selectAll('circle').data(data);\n",
       "\n",
       "        circles.enter()\n",
       "            .append('circle')\n",
       "            .attr(\"cx\", function (d, i) {return x(i);})\n",
       "            .attr(\"cy\", height / 2)\n",
       "            .attr(\"r\", 20)\n",
       "            .style(\"fill\", \"#1570a4\")\n",
       "            .style(\"opacity\", 0.8)\n",
       "            .transition().duration(2000)\n",
       "            .attr(\"r\", function (d) {return d;});\n",
       "    }\n",
       "\n",
       "    return draw;\n",
       "});\n",
       "\n",
       "element.append('Loaded circles.js');\n"
      ],
      "text/plain": [
       "<IPython.core.display.Javascript object>"
      ]
     },
     "execution_count": 5,
     "metadata": {},
     "output_type": "execute_result"
    }
   ],
   "source": [
    "Javascript(filename='circles.js')"
   ]
  },
  {
   "cell_type": "markdown",
   "metadata": {},
   "source": [
    "Now, we define some data in Python space. For this illustration we just use a hardcoded list."
   ]
  },
  {
   "cell_type": "code",
   "execution_count": 6,
   "metadata": {},
   "outputs": [],
   "source": [
    "data = [5, 10, 20, 40, 50, 30, 10, 20, 40, 10, 5]"
   ]
  },
  {
   "cell_type": "markdown",
   "metadata": {},
   "source": [
    "And we visualize it like this:"
   ]
  },
  {
   "cell_type": "code",
   "execution_count": 7,
   "metadata": {},
   "outputs": [
    {
     "data": {
      "application/javascript": [
       "\n",
       "(function(element){\n",
       "    require(['circles'], function(circles) {\n",
       "        circles(element.get(0), [5, 10, 20, 40, 50, 30, 10, 20, 40, 10, 5])\n",
       "    });\n",
       "})(element);\n"
      ],
      "text/plain": [
       "<IPython.core.display.Javascript object>"
      ]
     },
     "execution_count": 7,
     "metadata": {},
     "output_type": "execute_result"
    }
   ],
   "source": [
    "Javascript(\"\"\"\n",
    "(function(element){\n",
    "    require(['circles'], function(circles) {\n",
    "        circles(element.get(0), %s)\n",
    "    });\n",
    "})(element);\n",
    "\"\"\" % json.dumps(data))"
   ]
  },
  {
   "cell_type": "markdown",
   "metadata": {},
   "source": [
    "Note:\n",
    "- We use RequireJS again to get our `circles` function\n",
    "- The container to add the drawing to is `element.get(0)` as discussed above\n",
    "- We convert the data to JSON and inject it in the `circles` function call in Javascript. For simplicity, I used basic Python string formatting with `%`, but other templating solutions are possible of course.\n",
    "- If you want multiple drawings for different data sets, you probably want to put the `Javascript` thing in a reusable function. Don't forget to return the `Javascript` object so it rendered properly."
   ]
  },
  {
   "cell_type": "markdown",
   "metadata": {},
   "source": [
    "## Debug/development tips"
   ]
  },
  {
   "cell_type": "markdown",
   "metadata": {},
   "source": [
    "Reloading the code from the separate script while developing can be very cumbersome. RequireJS will not automatically \"reload\" a module that is already defined. For a full hard refresh you should: clear the output of the `Javascript(filename=..)` cell (or clear all outputs of the whole notebook), save the notebook and refresh the page in your browser.\n",
    "\n",
    "Luckily there is a much easier way using [`require.undef`](http://requirejs.org/docs/api.html#undef). Put it at the top of the script file, before the `define` to \"unload\" the module before redefining it again. In our example:\n",
    "\n",
    "    require.undef('circles');\n",
    "\n",
    "    define('circles', ['d3'], function (d3) {\n",
    "        // ...\n",
    "    });\n",
    "\n",
    "Now you just have the re-execute the `Javascript(filename=..)` cell and the code will be reloaded, which is a lot more intuitive during development."
   ]
  },
  {
   "cell_type": "code",
   "execution_count": null,
   "metadata": {},
   "outputs": [],
   "source": []
  },
  {
   "cell_type": "code",
   "execution_count": null,
   "metadata": {},
   "outputs": [],
   "source": []
  }
 ],
 "metadata": {
  "kernelspec": {
   "display_name": "Python 2",
   "language": "python",
   "name": "python2"
  },
  "language_info": {
   "codemirror_mode": {
    "name": "ipython",
    "version": 2
   },
   "file_extension": ".py",
   "mimetype": "text/x-python",
   "name": "python",
   "nbconvert_exporter": "python",
   "pygments_lexer": "ipython2",
   "version": "2.7.11"
  }
 },
 "nbformat": 4,
 "nbformat_minor": 2
}
